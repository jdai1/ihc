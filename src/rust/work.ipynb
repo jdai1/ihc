{
 "cells": [
  {
   "cell_type": "code",
   "execution_count": null,
   "metadata": {},
   "outputs": [
    {
     "name": "stdout",
     "output_type": "stream",
     "text": [
      "63.92999999999999\n"
     ]
    }
   ],
   "source": [
    "import json\n",
    "\n",
    "with open(\"/Users/alexanderportland/Desktop/prescriptive/healthcare-analytics/src/rust/heur_lp_far_from_0.5.log\", \"r\") as f:\n",
    "    x = f.read()\n",
    "\n",
    "\n",
    "total_time = 0\n",
    "for l in x.splitlines():\n",
    "    if json.loads(l)[\"Time\"] == \"--\":\n",
    "        total_time += 300\n",
    "    else:\n",
    "        total_time += json.loads(l)[\"Time\"]\n",
    "\n",
    "print(total_time)"
   ]
  },
  {
   "cell_type": "code",
   "execution_count": 1,
   "metadata": {},
   "outputs": [
    {
     "name": "stdout",
     "output_type": "stream",
     "text": [
      "29.040000000000006\n"
     ]
    }
   ],
   "source": [
    "import json\n",
    "\n",
    "with open(\"./logs/testing1.log\", \"r\") as f:\n",
    "    x = f.read()\n",
    "\n",
    "\n",
    "total_time = 0\n",
    "for l in x.splitlines():\n",
    "    if json.loads(l)[\"Time\"] == \"--\":\n",
    "        total_time += 300\n",
    "    else:\n",
    "        total_time += json.loads(l)[\"Time\"]\n",
    "\n",
    "print(total_time)"
   ]
  },
  {
   "cell_type": "code",
   "execution_count": 2,
   "metadata": {},
   "outputs": [
    {
     "name": "stdout",
     "output_type": "stream",
     "text": [
      "24.370000000000008\n"
     ]
    }
   ],
   "source": [
    "import json\n",
    "\n",
    "with open(\"./logs/testing2.log\", \"r\") as f:\n",
    "    x = f.read()\n",
    "\n",
    "\n",
    "total_time = 0\n",
    "for l in x.splitlines():\n",
    "    if json.loads(l)[\"Time\"] == \"--\":\n",
    "        total_time += 300\n",
    "    else:\n",
    "        total_time += json.loads(l)[\"Time\"]\n",
    "\n",
    "print(total_time)"
   ]
  },
  {
   "cell_type": "code",
   "execution_count": 3,
   "metadata": {},
   "outputs": [
    {
     "name": "stdout",
     "output_type": "stream",
     "text": [
      "22.349999999999998\n"
     ]
    }
   ],
   "source": [
    "import json\n",
    "\n",
    "with open(\"./logs/testing3.log\", \"r\") as f:\n",
    "    x = f.read()\n",
    "\n",
    "\n",
    "total_time = 0\n",
    "for l in x.splitlines():\n",
    "    if json.loads(l)[\"Time\"] == \"--\":\n",
    "        total_time += 300\n",
    "    else:\n",
    "        total_time += json.loads(l)[\"Time\"]\n",
    "\n",
    "print(total_time)"
   ]
  },
  {
   "cell_type": "code",
   "execution_count": 4,
   "metadata": {},
   "outputs": [
    {
     "name": "stdout",
     "output_type": "stream",
     "text": [
      "23.520000000000007\n"
     ]
    }
   ],
   "source": [
    "import json\n",
    "\n",
    "with open(\"./logs/testing4.log\", \"r\") as f:\n",
    "    x = f.read()\n",
    "\n",
    "\n",
    "total_time = 0\n",
    "for l in x.splitlines():\n",
    "    if json.loads(l)[\"Time\"] == \"--\":\n",
    "        total_time += 300\n",
    "    else:\n",
    "        total_time += json.loads(l)[\"Time\"]\n",
    "\n",
    "print(total_time)"
   ]
  },
  {
   "cell_type": "code",
   "execution_count": null,
   "metadata": {},
   "outputs": [],
   "source": []
  }
 ],
 "metadata": {
  "kernelspec": {
   "display_name": "prescriptive",
   "language": "python",
   "name": "python3"
  },
  "language_info": {
   "codemirror_mode": {
    "name": "ipython",
    "version": 3
   },
   "file_extension": ".py",
   "mimetype": "text/x-python",
   "name": "python",
   "nbconvert_exporter": "python",
   "pygments_lexer": "ipython3",
   "version": "3.10.16"
  }
 },
 "nbformat": 4,
 "nbformat_minor": 2
}
