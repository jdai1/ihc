{
 "cells": [
  {
   "cell_type": "code",
   "execution_count": null,
   "metadata": {},
   "outputs": [
    {
     "name": "stdout",
     "output_type": "stream",
     "text": [
      "63.92999999999999\n"
     ]
    }
   ],
   "source": [
    "import json\n",
    "\n",
    "with open(\"/Users/alexanderportland/Desktop/prescriptive/healthcare-analytics/src/rust/heur_lp_far_from_0.5.log\", \"r\") as f:\n",
    "    x = f.read()\n",
    "\n",
    "\n",
    "total_time = 0\n",
    "for l in x.splitlines():\n",
    "    if json.loads(l)[\"Time\"] == \"--\":\n",
    "        total_time += 300\n",
    "    else:\n",
    "        total_time += json.loads(l)[\"Time\"]\n",
    "\n",
    "print(total_time)"
   ]
  }
 ],
 "metadata": {
  "kernelspec": {
   "display_name": "3.9.19",
   "language": "python",
   "name": "python3"
  },
  "language_info": {
   "codemirror_mode": {
    "name": "ipython",
    "version": 3
   },
   "file_extension": ".py",
   "mimetype": "text/x-python",
   "name": "python",
   "nbconvert_exporter": "python",
   "pygments_lexer": "ipython3",
   "version": "3.9.19"
  }
 },
 "nbformat": 4,
 "nbformat_minor": 2
}
