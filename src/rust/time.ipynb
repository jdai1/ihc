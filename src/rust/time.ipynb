{
 "cells": [
  {
   "cell_type": "code",
   "execution_count": 3,
   "metadata": {},
   "outputs": [],
   "source": [
    "import json\n",
    "\n",
    "def calc_total_time(filename):\n",
    "    with open(f\"./logs/{filename}\", \"r\") as f:\n",
    "        x = f.read()\n",
    "\n",
    "\n",
    "    total_time = 0\n",
    "    for l in x.splitlines():\n",
    "        if json.loads(l)[\"Time\"] == \"--\":\n",
    "            total_time += 300\n",
    "        else:\n",
    "            total_time += json.loads(l)[\"Time\"]\n",
    "    return total_time"
   ]
  },
  {
   "cell_type": "code",
   "execution_count": 4,
   "metadata": {},
   "outputs": [
    {
     "name": "stdout",
     "output_type": "stream",
     "text": [
      "balls4.log: 30.350000000000005\n",
      "balls5.log: 2729.06\n",
      "always_go_4_deep.log: 73.10000000000002\n",
      "balls7.log: 29.870000000000008\n",
      "balls6.log: 27.120000000000005\n",
      "testing8.log: 31.22\n",
      "balls2.log: 629.1800000000001\n",
      "balls3.log: 323.06\n",
      "testing9.log: 27.210000000000004\n",
      "heur_lp_far_from_one.log: 63.89\n",
      "heur_lp_close_to_0.5.log: 35.220000000000006\n",
      "no_multithread.log: 110.65669371099999\n",
      "heur_index.log: 47.65\n",
      "multi1.log: 74.61999999999999\n",
      "always_go_2_deep.log: 44.760000000000005\n",
      "balls.log: 26.010000000000005\n",
      "multi_real_heuristic.log: 35.57000000000001\n",
      "testing7.log: 10.409999999999998\n",
      "heur_lp_far_from_0.5.log: 63.92999999999999\n",
      "heur_lp_close_to_0.9.log: 38.98999999999999\n",
      "heur_lp_close_to_one.log: 35.28\n",
      "testing6.log: 26.230000000000008\n",
      "testing4.log: 23.520000000000007\n",
      "testing.log: 28.930000000000007\n",
      "testing5.log: 26.510000000000005\n",
      "testing1.log: 29.040000000000006\n",
      "heur_index3.log: 55.96\n",
      "testing2.log: 24.370000000000008\n",
      "testing3.log: 22.349999999999998\n"
     ]
    }
   ],
   "source": [
    "import os\n",
    "\n",
    "for filename in os.listdir(path=\"./logs\"):\n",
    "    try:\n",
    "        total_time = calc_total_time(filename)\n",
    "        print(f\"{filename}: {total_time}\")\n",
    "    except Exception as e:\n",
    "        pass\n",
    "    "
   ]
  },
  {
   "cell_type": "code",
   "execution_count": null,
   "metadata": {},
   "outputs": [],
   "source": []
  }
 ],
 "metadata": {
  "kernelspec": {
   "display_name": "prescriptive",
   "language": "python",
   "name": "python3"
  },
  "language_info": {
   "codemirror_mode": {
    "name": "ipython",
    "version": 3
   },
   "file_extension": ".py",
   "mimetype": "text/x-python",
   "name": "python",
   "nbconvert_exporter": "python",
   "pygments_lexer": "ipython3",
   "version": "3.10.16"
  }
 },
 "nbformat": 4,
 "nbformat_minor": 2
}
