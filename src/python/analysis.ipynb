{
 "cells": [
  {
   "cell_type": "code",
   "execution_count": 5,
   "id": "5938ee46",
   "metadata": {},
   "outputs": [],
   "source": [
    "import numpy as np"
   ]
  },
  {
   "cell_type": "code",
   "execution_count": 6,
   "id": "65774346",
   "metadata": {},
   "outputs": [],
   "source": [
    "def data_parse(filename: str):\n",
    "        try:\n",
    "            with open(filename, \"r\") as fl:\n",
    "                numTests = int(fl.readline().strip())  # n\n",
    "                numDiseases = int(fl.readline().strip())  # m\n",
    "\n",
    "                costOfTest = np.array(\n",
    "                    [float(i) for i in fl.readline().strip().split()]\n",
    "                )  # length numT\n",
    "\n",
    "                A = np.zeros((numTests, numDiseases))\n",
    "                for i in range(0, numTests):\n",
    "                    A[i, :] = np.array(\n",
    "                        [int(i) for i in fl.readline().strip().split()]\n",
    "                    )  # numT x numD\n",
    "                return numTests, numDiseases, costOfTest, A\n",
    "        except Exception as e:\n",
    "            print(f\"Error reading instance file. File format may be incorrect.{e}\")\n",
    "            exit(1)"
   ]
  },
  {
   "cell_type": "code",
   "execution_count": 7,
   "id": "70fe9ff7",
   "metadata": {},
   "outputs": [],
   "source": [
    "from numpy import ndarray\n",
    "\n",
    "def getDifferentiedDiseases(rowOfA: ndarray) -> list:\n",
    "    differentied_diseases = []\n",
    "    for i in range(len(rowOfA)):\n",
    "        for j in range(i + 1, len(rowOfA)):\n",
    "            if rowOfA[i] != rowOfA[j]:\n",
    "                differentied_diseases.append(f\"{i}-{j}\")\n",
    "    return differentied_diseases"
   ]
  },
  {
   "cell_type": "code",
   "execution_count": 8,
   "id": "d097c06e",
   "metadata": {},
   "outputs": [],
   "source": [
    "def dominates(diffDisA: list, diffDisB: list) -> bool:\n",
    "    return set(diffDisA).issubset(set(diffDisB)) or set(diffDisB).issubset(set(diffDisA))"
   ]
  },
  {
   "cell_type": "code",
   "execution_count": 9,
   "id": "2902c011",
   "metadata": {},
   "outputs": [
    {
     "name": "stdout",
     "output_type": "stream",
     "text": [
      "(3, 3)\n",
      "shit\n",
      "(50, 50)\n",
      "(100, 100)\n",
      "(100, 200)\n",
      "(50, 100)\n",
      "(5, 5)\n",
      "(100, 200)\n",
      "(50, 100)\n",
      "(50, 25)\n",
      "(100, 100)\n",
      "(25, 25)\n",
      "(25, 50)\n",
      "(100, 100)\n",
      "(25, 25)\n",
      "(100, 100)\n",
      "(100, 50)\n"
     ]
    }
   ],
   "source": [
    "import os\n",
    "\n",
    "for prob in os.listdir(\"../../input\"):\n",
    "    numTests, numDiseases, cost, A = data_parse(f\"../../input/{prob}\")\n",
    "    print(A.shape)\n",
    "\n",
    "    B = [getDifferentiedDiseases(A[r, :]) for r in range(numTests)]\n",
    "\n",
    "    for r in B:\n",
    "        if len(r) == 0:\n",
    "            print(\"shit\")\n",
    "\n",
    "    # for i in range(numTests):\n",
    "    #     for j in range(i + 1, numTests):\n",
    "    #         if dominates(B[i], B[j]):\n",
    "    #             print(\"aahhhhhhh\")\n",
    "\n",
    "    # break\n",
    "            "
   ]
  },
  {
   "cell_type": "code",
   "execution_count": null,
   "id": "0910e0f1",
   "metadata": {},
   "outputs": [],
   "source": []
  }
 ],
 "metadata": {
  "kernelspec": {
   "display_name": "prescriptive",
   "language": "python",
   "name": "python3"
  },
  "language_info": {
   "codemirror_mode": {
    "name": "ipython",
    "version": 3
   },
   "file_extension": ".py",
   "mimetype": "text/x-python",
   "name": "python",
   "nbconvert_exporter": "python",
   "pygments_lexer": "ipython3",
   "version": "3.10.16"
  }
 },
 "nbformat": 4,
 "nbformat_minor": 5
}
